{
  "cells": [
    {
      "cell_type": "markdown",
      "metadata": {
        "id": "view-in-github",
        "colab_type": "text"
      },
      "source": [
        "<a href=\"https://colab.research.google.com/github/ykitaguchi77/Kaggle/blob/main/Bunkruptcy-prediction.ipynb\" target=\"_parent\"><img src=\"https://colab.research.google.com/assets/colab-badge.svg\" alt=\"Open In Colab\"/></a>"
      ]
    },
    {
      "cell_type": "markdown",
      "source": [
        "#**Download Kaggle dataset**"
      ],
      "metadata": {
        "id": "kX5jEqwlpfjN"
      }
    },
    {
      "cell_type": "markdown",
      "metadata": {
        "id": "RA_zd5BvsXyk"
      },
      "source": [
        "## Google Driveのマウント"
      ]
    },
    {
      "cell_type": "code",
      "execution_count": 2,
      "metadata": {
        "colab": {
          "base_uri": "https://localhost:8080/"
        },
        "id": "ARmR6Kdbsayr",
        "outputId": "ecb630b4-7b9a-4065-8437-ff02c98c579a"
      },
      "outputs": [
        {
          "output_type": "stream",
          "name": "stdout",
          "text": [
            "Drive already mounted at /content/drive; to attempt to forcibly remount, call drive.mount(\"/content/drive\", force_remount=True).\n"
          ]
        }
      ],
      "source": [
        "from google.colab import drive\n",
        "drive.mount('/content/drive')\n",
        "\n"
      ]
    },
    {
      "cell_type": "code",
      "source": [
        "#Profiling用。Runtimeの再起動を要求されるので先にインポートしておく\n",
        "!pip install pandas-profiling\n",
        "!pip install -U pandas_profiling\n",
        "!pip uninstall markupsafe\n",
        "!pip install markupsafe==2.0.1 #エラー対応"
      ],
      "metadata": {
        "colab": {
          "base_uri": "https://localhost:8080/",
          "height": 1000
        },
        "id": "a95lhSS1FIHC",
        "outputId": "7001fc4f-9cab-4a41-b60f-840676695631"
      },
      "execution_count": 8,
      "outputs": [
        {
          "output_type": "stream",
          "name": "stdout",
          "text": [
            "Looking in indexes: https://pypi.org/simple, https://us-python.pkg.dev/colab-wheels/public/simple/\n",
            "Requirement already satisfied: pandas-profiling in /usr/local/lib/python3.7/dist-packages (3.2.0)\n",
            "Requirement already satisfied: requests>=2.24.0 in /usr/local/lib/python3.7/dist-packages (from pandas-profiling) (2.28.1)\n",
            "Requirement already satisfied: scipy>=1.4.1 in /usr/local/lib/python3.7/dist-packages (from pandas-profiling) (1.7.3)\n",
            "Requirement already satisfied: pydantic>=1.8.1 in /usr/local/lib/python3.7/dist-packages (from pandas-profiling) (1.9.2)\n",
            "Requirement already satisfied: seaborn>=0.10.1 in /usr/local/lib/python3.7/dist-packages (from pandas-profiling) (0.11.2)\n",
            "Requirement already satisfied: jinja2>=2.11.1 in /usr/local/lib/python3.7/dist-packages (from pandas-profiling) (2.11.3)\n",
            "Requirement already satisfied: htmlmin>=0.1.12 in /usr/local/lib/python3.7/dist-packages (from pandas-profiling) (0.1.12)\n",
            "Requirement already satisfied: missingno>=0.4.2 in /usr/local/lib/python3.7/dist-packages (from pandas-profiling) (0.5.1)\n",
            "Requirement already satisfied: tangled-up-in-unicode==0.2.0 in /usr/local/lib/python3.7/dist-packages (from pandas-profiling) (0.2.0)\n",
            "Requirement already satisfied: matplotlib>=3.2.0 in /usr/local/lib/python3.7/dist-packages (from pandas-profiling) (3.2.2)\n",
            "Requirement already satisfied: multimethod>=1.4 in /usr/local/lib/python3.7/dist-packages (from pandas-profiling) (1.8)\n",
            "Requirement already satisfied: tqdm>=4.48.2 in /usr/local/lib/python3.7/dist-packages (from pandas-profiling) (4.64.0)\n",
            "Collecting markupsafe~=2.1.1\n",
            "  Using cached MarkupSafe-2.1.1-cp37-cp37m-manylinux_2_17_x86_64.manylinux2014_x86_64.whl (25 kB)\n",
            "Requirement already satisfied: joblib~=1.1.0 in /usr/local/lib/python3.7/dist-packages (from pandas-profiling) (1.1.0)\n",
            "Requirement already satisfied: visions[type_image_path]==0.7.4 in /usr/local/lib/python3.7/dist-packages (from pandas-profiling) (0.7.4)\n",
            "Requirement already satisfied: numpy>=1.16.0 in /usr/local/lib/python3.7/dist-packages (from pandas-profiling) (1.21.6)\n",
            "Requirement already satisfied: pandas!=1.0.0,!=1.0.1,!=1.0.2,!=1.1.0,>=0.25.3 in /usr/local/lib/python3.7/dist-packages (from pandas-profiling) (1.3.5)\n",
            "Requirement already satisfied: phik>=0.11.1 in /usr/local/lib/python3.7/dist-packages (from pandas-profiling) (0.12.2)\n",
            "Requirement already satisfied: PyYAML>=5.0.0 in /usr/local/lib/python3.7/dist-packages (from pandas-profiling) (6.0)\n",
            "Requirement already satisfied: networkx>=2.4 in /usr/local/lib/python3.7/dist-packages (from visions[type_image_path]==0.7.4->pandas-profiling) (2.6.3)\n",
            "Requirement already satisfied: attrs>=19.3.0 in /usr/local/lib/python3.7/dist-packages (from visions[type_image_path]==0.7.4->pandas-profiling) (22.1.0)\n",
            "Requirement already satisfied: imagehash in /usr/local/lib/python3.7/dist-packages (from visions[type_image_path]==0.7.4->pandas-profiling) (4.2.1)\n",
            "Requirement already satisfied: Pillow in /usr/local/lib/python3.7/dist-packages (from visions[type_image_path]==0.7.4->pandas-profiling) (7.1.2)\n",
            "Requirement already satisfied: kiwisolver>=1.0.1 in /usr/local/lib/python3.7/dist-packages (from matplotlib>=3.2.0->pandas-profiling) (1.4.4)\n",
            "Requirement already satisfied: python-dateutil>=2.1 in /usr/local/lib/python3.7/dist-packages (from matplotlib>=3.2.0->pandas-profiling) (2.8.2)\n",
            "Requirement already satisfied: pyparsing!=2.0.4,!=2.1.2,!=2.1.6,>=2.0.1 in /usr/local/lib/python3.7/dist-packages (from matplotlib>=3.2.0->pandas-profiling) (3.0.9)\n",
            "Requirement already satisfied: cycler>=0.10 in /usr/local/lib/python3.7/dist-packages (from matplotlib>=3.2.0->pandas-profiling) (0.11.0)\n",
            "Requirement already satisfied: typing-extensions in /usr/local/lib/python3.7/dist-packages (from kiwisolver>=1.0.1->matplotlib>=3.2.0->pandas-profiling) (4.1.1)\n",
            "Requirement already satisfied: pytz>=2017.3 in /usr/local/lib/python3.7/dist-packages (from pandas!=1.0.0,!=1.0.1,!=1.0.2,!=1.1.0,>=0.25.3->pandas-profiling) (2022.2.1)\n",
            "Requirement already satisfied: six>=1.5 in /usr/local/lib/python3.7/dist-packages (from python-dateutil>=2.1->matplotlib>=3.2.0->pandas-profiling) (1.15.0)\n",
            "Requirement already satisfied: charset-normalizer<3,>=2 in /usr/local/lib/python3.7/dist-packages (from requests>=2.24.0->pandas-profiling) (2.1.0)\n",
            "Requirement already satisfied: urllib3<1.27,>=1.21.1 in /usr/local/lib/python3.7/dist-packages (from requests>=2.24.0->pandas-profiling) (1.24.3)\n",
            "Requirement already satisfied: idna<4,>=2.5 in /usr/local/lib/python3.7/dist-packages (from requests>=2.24.0->pandas-profiling) (2.10)\n",
            "Requirement already satisfied: certifi>=2017.4.17 in /usr/local/lib/python3.7/dist-packages (from requests>=2.24.0->pandas-profiling) (2022.6.15)\n",
            "Requirement already satisfied: PyWavelets in /usr/local/lib/python3.7/dist-packages (from imagehash->visions[type_image_path]==0.7.4->pandas-profiling) (1.3.0)\n",
            "Installing collected packages: markupsafe\n",
            "  Attempting uninstall: markupsafe\n",
            "    Found existing installation: MarkupSafe 2.0.1\n",
            "    Uninstalling MarkupSafe-2.0.1:\n",
            "      Successfully uninstalled MarkupSafe-2.0.1\n",
            "Successfully installed markupsafe-2.1.1\n"
          ]
        },
        {
          "output_type": "display_data",
          "data": {
            "application/vnd.colab-display-data+json": {
              "pip_warning": {
                "packages": [
                  "markupsafe"
                ]
              }
            }
          },
          "metadata": {}
        },
        {
          "output_type": "stream",
          "name": "stdout",
          "text": [
            "Looking in indexes: https://pypi.org/simple, https://us-python.pkg.dev/colab-wheels/public/simple/\n",
            "Requirement already satisfied: pandas_profiling in /usr/local/lib/python3.7/dist-packages (3.2.0)\n",
            "Requirement already satisfied: pandas!=1.0.0,!=1.0.1,!=1.0.2,!=1.1.0,>=0.25.3 in /usr/local/lib/python3.7/dist-packages (from pandas_profiling) (1.3.5)\n",
            "Requirement already satisfied: requests>=2.24.0 in /usr/local/lib/python3.7/dist-packages (from pandas_profiling) (2.28.1)\n",
            "Requirement already satisfied: matplotlib>=3.2.0 in /usr/local/lib/python3.7/dist-packages (from pandas_profiling) (3.2.2)\n",
            "Requirement already satisfied: multimethod>=1.4 in /usr/local/lib/python3.7/dist-packages (from pandas_profiling) (1.8)\n",
            "Requirement already satisfied: tqdm>=4.48.2 in /usr/local/lib/python3.7/dist-packages (from pandas_profiling) (4.64.0)\n",
            "Requirement already satisfied: pydantic>=1.8.1 in /usr/local/lib/python3.7/dist-packages (from pandas_profiling) (1.9.2)\n",
            "Requirement already satisfied: missingno>=0.4.2 in /usr/local/lib/python3.7/dist-packages (from pandas_profiling) (0.5.1)\n",
            "Requirement already satisfied: numpy>=1.16.0 in /usr/local/lib/python3.7/dist-packages (from pandas_profiling) (1.21.6)\n",
            "Requirement already satisfied: joblib~=1.1.0 in /usr/local/lib/python3.7/dist-packages (from pandas_profiling) (1.1.0)\n",
            "Requirement already satisfied: tangled-up-in-unicode==0.2.0 in /usr/local/lib/python3.7/dist-packages (from pandas_profiling) (0.2.0)\n",
            "Requirement already satisfied: jinja2>=2.11.1 in /usr/local/lib/python3.7/dist-packages (from pandas_profiling) (2.11.3)\n",
            "Requirement already satisfied: PyYAML>=5.0.0 in /usr/local/lib/python3.7/dist-packages (from pandas_profiling) (6.0)\n",
            "Requirement already satisfied: visions[type_image_path]==0.7.4 in /usr/local/lib/python3.7/dist-packages (from pandas_profiling) (0.7.4)\n",
            "Requirement already satisfied: htmlmin>=0.1.12 in /usr/local/lib/python3.7/dist-packages (from pandas_profiling) (0.1.12)\n",
            "Requirement already satisfied: markupsafe~=2.1.1 in /usr/local/lib/python3.7/dist-packages (from pandas_profiling) (2.1.1)\n",
            "Requirement already satisfied: scipy>=1.4.1 in /usr/local/lib/python3.7/dist-packages (from pandas_profiling) (1.7.3)\n",
            "Requirement already satisfied: seaborn>=0.10.1 in /usr/local/lib/python3.7/dist-packages (from pandas_profiling) (0.11.2)\n",
            "Requirement already satisfied: phik>=0.11.1 in /usr/local/lib/python3.7/dist-packages (from pandas_profiling) (0.12.2)\n",
            "Requirement already satisfied: attrs>=19.3.0 in /usr/local/lib/python3.7/dist-packages (from visions[type_image_path]==0.7.4->pandas_profiling) (22.1.0)\n",
            "Requirement already satisfied: networkx>=2.4 in /usr/local/lib/python3.7/dist-packages (from visions[type_image_path]==0.7.4->pandas_profiling) (2.6.3)\n",
            "Requirement already satisfied: imagehash in /usr/local/lib/python3.7/dist-packages (from visions[type_image_path]==0.7.4->pandas_profiling) (4.2.1)\n",
            "Requirement already satisfied: Pillow in /usr/local/lib/python3.7/dist-packages (from visions[type_image_path]==0.7.4->pandas_profiling) (7.1.2)\n",
            "Requirement already satisfied: kiwisolver>=1.0.1 in /usr/local/lib/python3.7/dist-packages (from matplotlib>=3.2.0->pandas_profiling) (1.4.4)\n",
            "Requirement already satisfied: cycler>=0.10 in /usr/local/lib/python3.7/dist-packages (from matplotlib>=3.2.0->pandas_profiling) (0.11.0)\n",
            "Requirement already satisfied: pyparsing!=2.0.4,!=2.1.2,!=2.1.6,>=2.0.1 in /usr/local/lib/python3.7/dist-packages (from matplotlib>=3.2.0->pandas_profiling) (3.0.9)\n",
            "Requirement already satisfied: python-dateutil>=2.1 in /usr/local/lib/python3.7/dist-packages (from matplotlib>=3.2.0->pandas_profiling) (2.8.2)\n",
            "Requirement already satisfied: typing-extensions in /usr/local/lib/python3.7/dist-packages (from kiwisolver>=1.0.1->matplotlib>=3.2.0->pandas_profiling) (4.1.1)\n",
            "Requirement already satisfied: pytz>=2017.3 in /usr/local/lib/python3.7/dist-packages (from pandas!=1.0.0,!=1.0.1,!=1.0.2,!=1.1.0,>=0.25.3->pandas_profiling) (2022.2.1)\n",
            "Requirement already satisfied: six>=1.5 in /usr/local/lib/python3.7/dist-packages (from python-dateutil>=2.1->matplotlib>=3.2.0->pandas_profiling) (1.15.0)\n",
            "Requirement already satisfied: certifi>=2017.4.17 in /usr/local/lib/python3.7/dist-packages (from requests>=2.24.0->pandas_profiling) (2022.6.15)\n",
            "Requirement already satisfied: idna<4,>=2.5 in /usr/local/lib/python3.7/dist-packages (from requests>=2.24.0->pandas_profiling) (2.10)\n",
            "Requirement already satisfied: urllib3<1.27,>=1.21.1 in /usr/local/lib/python3.7/dist-packages (from requests>=2.24.0->pandas_profiling) (1.24.3)\n",
            "Requirement already satisfied: charset-normalizer<3,>=2 in /usr/local/lib/python3.7/dist-packages (from requests>=2.24.0->pandas_profiling) (2.1.0)\n",
            "Requirement already satisfied: PyWavelets in /usr/local/lib/python3.7/dist-packages (from imagehash->visions[type_image_path]==0.7.4->pandas_profiling) (1.3.0)\n",
            "Found existing installation: MarkupSafe 2.1.1\n",
            "Uninstalling MarkupSafe-2.1.1:\n",
            "  Would remove:\n",
            "    /usr/local/lib/python3.7/dist-packages/MarkupSafe-2.1.1.dist-info/*\n",
            "    /usr/local/lib/python3.7/dist-packages/markupsafe/*\n",
            "Proceed (y/n)? y\n",
            "  Successfully uninstalled MarkupSafe-2.1.1\n",
            "Looking in indexes: https://pypi.org/simple, https://us-python.pkg.dev/colab-wheels/public/simple/\n",
            "Collecting markupsafe==2.0.1\n",
            "  Using cached MarkupSafe-2.0.1-cp37-cp37m-manylinux_2_5_x86_64.manylinux1_x86_64.manylinux_2_12_x86_64.manylinux2010_x86_64.whl (31 kB)\n",
            "Installing collected packages: markupsafe\n",
            "\u001b[31mERROR: pip's dependency resolver does not currently take into account all the packages that are installed. This behaviour is the source of the following dependency conflicts.\n",
            "pandas-profiling 3.2.0 requires markupsafe~=2.1.1, but you have markupsafe 2.0.1 which is incompatible.\u001b[0m\n",
            "Successfully installed markupsafe-2.0.1\n"
          ]
        },
        {
          "output_type": "display_data",
          "data": {
            "application/vnd.colab-display-data+json": {
              "pip_warning": {
                "packages": [
                  "markupsafe"
                ]
              }
            }
          },
          "metadata": {}
        }
      ]
    },
    {
      "cell_type": "markdown",
      "metadata": {
        "id": "TCEUaFVvsc6a"
      },
      "source": [
        "## データセットの準備\n",
        "Kaggleと同じコードで動くよう、フォルダの関係を調整"
      ]
    },
    {
      "cell_type": "code",
      "execution_count": 3,
      "metadata": {
        "colab": {
          "base_uri": "https://localhost:8080/"
        },
        "id": "yFYRlGskoctf",
        "outputId": "5947037e-212d-48fd-b043-c240c86b6b57"
      },
      "outputs": [
        {
          "output_type": "stream",
          "name": "stdout",
          "text": [
            "Looking in indexes: https://pypi.org/simple, https://us-python.pkg.dev/colab-wheels/public/simple/\n",
            "Requirement already satisfied: kaggle in /usr/local/lib/python3.7/dist-packages (1.5.12)\n",
            "Requirement already satisfied: python-dateutil in /usr/local/lib/python3.7/dist-packages (from kaggle) (2.8.2)\n",
            "Requirement already satisfied: python-slugify in /usr/local/lib/python3.7/dist-packages (from kaggle) (6.1.2)\n",
            "Requirement already satisfied: tqdm in /usr/local/lib/python3.7/dist-packages (from kaggle) (4.64.0)\n",
            "Requirement already satisfied: urllib3 in /usr/local/lib/python3.7/dist-packages (from kaggle) (1.24.3)\n",
            "Requirement already satisfied: six>=1.10 in /usr/local/lib/python3.7/dist-packages (from kaggle) (1.15.0)\n",
            "Requirement already satisfied: requests in /usr/local/lib/python3.7/dist-packages (from kaggle) (2.28.1)\n",
            "Requirement already satisfied: certifi in /usr/local/lib/python3.7/dist-packages (from kaggle) (2022.6.15)\n",
            "Requirement already satisfied: text-unidecode>=1.3 in /usr/local/lib/python3.7/dist-packages (from python-slugify->kaggle) (1.3)\n",
            "Requirement already satisfied: charset-normalizer<3,>=2 in /usr/local/lib/python3.7/dist-packages (from requests->kaggle) (2.1.0)\n",
            "Requirement already satisfied: idna<4,>=2.5 in /usr/local/lib/python3.7/dist-packages (from requests->kaggle) (2.10)\n",
            "mkdir: cannot create directory ‘/root/.kaggle’: File exists\n",
            "mkdir: cannot create directory ‘/root/.kaggle’: File exists\n",
            "bankruptcy-risk-prediction.zip: Skipping, found more recently modified local copy (use --force to force download)\n",
            "Archive:  ./bankruptcy-risk-prediction.zip\n",
            "replace ./input/bankruptcy-risk-prediction/submission_example.csv? [y]es, [n]o, [A]ll, [N]one, [r]ename: n\n",
            "replace ./input/bankruptcy-risk-prediction/test.csv? [y]es, [n]o, [A]ll, [N]one, [r]ename: N\n"
          ]
        }
      ],
      "source": [
        "import os\n",
        "import shutil\n",
        "\n",
        "# kaggle ライブラリのインストール\n",
        "!pip install kaggle\n",
        "\n",
        "# 一時フォルダに .kaggleフォルダを作成\n",
        "!mkdir ~/.kaggle\n",
        "\n",
        "# MyDrive の kaggle.json を一時フォルダ内の .kaggleフォルダにコピー\n",
        "!cp /content/drive/MyDrive/Kaggle/kaggle.json ~/.kaggle/\n",
        "\n",
        "# アクセス権限の設定\n",
        "!chmod 600 ~/.kaggle/kaggle.json\n",
        "\n",
        "!mkdir ~/.kaggle\n",
        "\n",
        "\n",
        "\n",
        "os.makedirs(\"./input/bankruptcy-risk-prediction\", exist_ok=True)\n",
        "os.makedirs(\"./output\", exist_ok=True)\n",
        "\n",
        "# zipファイルのダウンロード\n",
        "!kaggle competitions download -c bankruptcy-risk-prediction -p /content\n",
        "# 解凍\n",
        "!unzip ./bankruptcy-risk-prediction.zip -d ./input/bankruptcy-risk-prediction\n",
        "\n",
        "#Zipフォルダを削除\n",
        "!rm ./bankruptcy-risk-prediction.zip\n",
        "\n",
        "#作業フォルダを作成\n",
        "\n",
        "os.makedirs(\"./Kaggle\", exist_ok=True)\n",
        "os.chdir(\"./Kaggle\")\n"
      ]
    },
    {
      "cell_type": "code",
      "source": [
        "import pandas as pd\n",
        "import numpy as np\n",
        "\n",
        "from sklearn.preprocessing import OneHotEncoder, LabelEncoder\n",
        "from sklearn.model_selection import StratifiedKFold\n",
        "from sklearn.metrics import roc_auc_score\n",
        "from sklearn.model_selection import train_test_split\n",
        "\n",
        "\n",
        "import lightgbm as lgb\n",
        "import matplotlib.pyplot as plt\n",
        "import seaborn as sns\n",
        "\n",
        "import warnings\n",
        "warnings.filterwarnings('ignore')\n",
        "\n"
      ],
      "metadata": {
        "id": "38_M1rTNZJFj"
      },
      "execution_count": 7,
      "outputs": []
    },
    {
      "cell_type": "markdown",
      "source": [
        "#**Load data**"
      ],
      "metadata": {
        "id": "Bjukz6dxhwQS"
      }
    },
    {
      "cell_type": "code",
      "source": [
        "# load train.csv\n",
        "train_df = pd.read_csv('../input/bankruptcy-risk-prediction/train.csv')\n",
        "\n",
        "# load test.csv\n",
        "test_df = pd.read_csv('../input/bankruptcy-risk-prediction/test.csv')\n",
        "\n",
        "# load submission_example.csv\n",
        "submission = pd.read_csv('../input/bankruptcy-risk-prediction/submission_example.csv')\n",
        "\n",
        "\n",
        "print(f'train_df.shape = {train_df.shape}')\n",
        "print(f'test_df.shape = {test_df.shape}')\n",
        "print(f'submission.shape = {submission.shape}')\n",
        "\n",
        "pd.set_option('display.max_rows', 3)\n",
        "pd.set_option('display.max_columns', 1000)\n",
        "\n",
        "train_df"
      ],
      "metadata": {
        "colab": {
          "base_uri": "https://localhost:8080/",
          "height": 395
        },
        "id": "SlZy1X0WZf4F",
        "outputId": "50bfb851-6776-4740-b448-563f3e3f615f"
      },
      "execution_count": 8,
      "outputs": [
        {
          "output_type": "stream",
          "name": "stdout",
          "text": [
            "train_df.shape = (800, 22)\n",
            "test_df.shape = (200, 21)\n",
            "submission.shape = (200, 2)\n"
          ]
        },
        {
          "output_type": "execute_result",
          "data": {
            "text/plain": [
              "      id   sum  term  payment guarantees               reason  credits  \\\n",
              "0      0  1169     6        4       none  television or radio        2   \n",
              "..   ...   ...   ...      ...        ...                  ...      ...   \n",
              "799  799  1549     9        4       none              new car        1   \n",
              "\n",
              "    other_credits                                      credit_report  \\\n",
              "0            none  critical account or other credits existing(not...   \n",
              "..            ...                                                ...   \n",
              "799          none           existing credits paid back duly till now   \n",
              "\n",
              "    marital_status  age      employment                         qualification  \\\n",
              "0      male single   67           7+ y.                      skilled employee   \n",
              "..             ...  ...             ...                                   ...   \n",
              "799    male single   35  less-than 1 y.  unemployed or unskilled non-resident   \n",
              "\n",
              "    immigrant  residence_since accommodation       estate  \\\n",
              "0         yes                4           own  real estate   \n",
              "..        ...              ...           ...          ...   \n",
              "799       yes                2           own  real estate   \n",
              "\n",
              "                           savings  dependents phone          status  \\\n",
              "0    unknown or no savings account           1   yes  less-than 0 cu   \n",
              "..                             ...         ...   ...             ...   \n",
              "799  unknown or no savings account           1  none     0 to 200 cu   \n",
              "\n",
              "     bankruptcy  \n",
              "0             0  \n",
              "..          ...  \n",
              "799           0  \n",
              "\n",
              "[800 rows x 22 columns]"
            ],
            "text/html": [
              "\n",
              "  <div id=\"df-fe0be214-39a1-426a-9a0a-106157c922bc\">\n",
              "    <div class=\"colab-df-container\">\n",
              "      <div>\n",
              "<style scoped>\n",
              "    .dataframe tbody tr th:only-of-type {\n",
              "        vertical-align: middle;\n",
              "    }\n",
              "\n",
              "    .dataframe tbody tr th {\n",
              "        vertical-align: top;\n",
              "    }\n",
              "\n",
              "    .dataframe thead th {\n",
              "        text-align: right;\n",
              "    }\n",
              "</style>\n",
              "<table border=\"1\" class=\"dataframe\">\n",
              "  <thead>\n",
              "    <tr style=\"text-align: right;\">\n",
              "      <th></th>\n",
              "      <th>id</th>\n",
              "      <th>sum</th>\n",
              "      <th>term</th>\n",
              "      <th>payment</th>\n",
              "      <th>guarantees</th>\n",
              "      <th>reason</th>\n",
              "      <th>credits</th>\n",
              "      <th>other_credits</th>\n",
              "      <th>credit_report</th>\n",
              "      <th>marital_status</th>\n",
              "      <th>age</th>\n",
              "      <th>employment</th>\n",
              "      <th>qualification</th>\n",
              "      <th>immigrant</th>\n",
              "      <th>residence_since</th>\n",
              "      <th>accommodation</th>\n",
              "      <th>estate</th>\n",
              "      <th>savings</th>\n",
              "      <th>dependents</th>\n",
              "      <th>phone</th>\n",
              "      <th>status</th>\n",
              "      <th>bankruptcy</th>\n",
              "    </tr>\n",
              "  </thead>\n",
              "  <tbody>\n",
              "    <tr>\n",
              "      <th>0</th>\n",
              "      <td>0</td>\n",
              "      <td>1169</td>\n",
              "      <td>6</td>\n",
              "      <td>4</td>\n",
              "      <td>none</td>\n",
              "      <td>television or radio</td>\n",
              "      <td>2</td>\n",
              "      <td>none</td>\n",
              "      <td>critical account or other credits existing(not...</td>\n",
              "      <td>male single</td>\n",
              "      <td>67</td>\n",
              "      <td>7+ y.</td>\n",
              "      <td>skilled employee</td>\n",
              "      <td>yes</td>\n",
              "      <td>4</td>\n",
              "      <td>own</td>\n",
              "      <td>real estate</td>\n",
              "      <td>unknown or no savings account</td>\n",
              "      <td>1</td>\n",
              "      <td>yes</td>\n",
              "      <td>less-than 0 cu</td>\n",
              "      <td>0</td>\n",
              "    </tr>\n",
              "    <tr>\n",
              "      <th>...</th>\n",
              "      <td>...</td>\n",
              "      <td>...</td>\n",
              "      <td>...</td>\n",
              "      <td>...</td>\n",
              "      <td>...</td>\n",
              "      <td>...</td>\n",
              "      <td>...</td>\n",
              "      <td>...</td>\n",
              "      <td>...</td>\n",
              "      <td>...</td>\n",
              "      <td>...</td>\n",
              "      <td>...</td>\n",
              "      <td>...</td>\n",
              "      <td>...</td>\n",
              "      <td>...</td>\n",
              "      <td>...</td>\n",
              "      <td>...</td>\n",
              "      <td>...</td>\n",
              "      <td>...</td>\n",
              "      <td>...</td>\n",
              "      <td>...</td>\n",
              "      <td>...</td>\n",
              "    </tr>\n",
              "    <tr>\n",
              "      <th>799</th>\n",
              "      <td>799</td>\n",
              "      <td>1549</td>\n",
              "      <td>9</td>\n",
              "      <td>4</td>\n",
              "      <td>none</td>\n",
              "      <td>new car</td>\n",
              "      <td>1</td>\n",
              "      <td>none</td>\n",
              "      <td>existing credits paid back duly till now</td>\n",
              "      <td>male single</td>\n",
              "      <td>35</td>\n",
              "      <td>less-than 1 y.</td>\n",
              "      <td>unemployed or unskilled non-resident</td>\n",
              "      <td>yes</td>\n",
              "      <td>2</td>\n",
              "      <td>own</td>\n",
              "      <td>real estate</td>\n",
              "      <td>unknown or no savings account</td>\n",
              "      <td>1</td>\n",
              "      <td>none</td>\n",
              "      <td>0 to 200 cu</td>\n",
              "      <td>0</td>\n",
              "    </tr>\n",
              "  </tbody>\n",
              "</table>\n",
              "<p>800 rows × 22 columns</p>\n",
              "</div>\n",
              "      <button class=\"colab-df-convert\" onclick=\"convertToInteractive('df-fe0be214-39a1-426a-9a0a-106157c922bc')\"\n",
              "              title=\"Convert this dataframe to an interactive table.\"\n",
              "              style=\"display:none;\">\n",
              "        \n",
              "  <svg xmlns=\"http://www.w3.org/2000/svg\" height=\"24px\"viewBox=\"0 0 24 24\"\n",
              "       width=\"24px\">\n",
              "    <path d=\"M0 0h24v24H0V0z\" fill=\"none\"/>\n",
              "    <path d=\"M18.56 5.44l.94 2.06.94-2.06 2.06-.94-2.06-.94-.94-2.06-.94 2.06-2.06.94zm-11 1L8.5 8.5l.94-2.06 2.06-.94-2.06-.94L8.5 2.5l-.94 2.06-2.06.94zm10 10l.94 2.06.94-2.06 2.06-.94-2.06-.94-.94-2.06-.94 2.06-2.06.94z\"/><path d=\"M17.41 7.96l-1.37-1.37c-.4-.4-.92-.59-1.43-.59-.52 0-1.04.2-1.43.59L10.3 9.45l-7.72 7.72c-.78.78-.78 2.05 0 2.83L4 21.41c.39.39.9.59 1.41.59.51 0 1.02-.2 1.41-.59l7.78-7.78 2.81-2.81c.8-.78.8-2.07 0-2.86zM5.41 20L4 18.59l7.72-7.72 1.47 1.35L5.41 20z\"/>\n",
              "  </svg>\n",
              "      </button>\n",
              "      \n",
              "  <style>\n",
              "    .colab-df-container {\n",
              "      display:flex;\n",
              "      flex-wrap:wrap;\n",
              "      gap: 12px;\n",
              "    }\n",
              "\n",
              "    .colab-df-convert {\n",
              "      background-color: #E8F0FE;\n",
              "      border: none;\n",
              "      border-radius: 50%;\n",
              "      cursor: pointer;\n",
              "      display: none;\n",
              "      fill: #1967D2;\n",
              "      height: 32px;\n",
              "      padding: 0 0 0 0;\n",
              "      width: 32px;\n",
              "    }\n",
              "\n",
              "    .colab-df-convert:hover {\n",
              "      background-color: #E2EBFA;\n",
              "      box-shadow: 0px 1px 2px rgba(60, 64, 67, 0.3), 0px 1px 3px 1px rgba(60, 64, 67, 0.15);\n",
              "      fill: #174EA6;\n",
              "    }\n",
              "\n",
              "    [theme=dark] .colab-df-convert {\n",
              "      background-color: #3B4455;\n",
              "      fill: #D2E3FC;\n",
              "    }\n",
              "\n",
              "    [theme=dark] .colab-df-convert:hover {\n",
              "      background-color: #434B5C;\n",
              "      box-shadow: 0px 1px 3px 1px rgba(0, 0, 0, 0.15);\n",
              "      filter: drop-shadow(0px 1px 2px rgba(0, 0, 0, 0.3));\n",
              "      fill: #FFFFFF;\n",
              "    }\n",
              "  </style>\n",
              "\n",
              "      <script>\n",
              "        const buttonEl =\n",
              "          document.querySelector('#df-fe0be214-39a1-426a-9a0a-106157c922bc button.colab-df-convert');\n",
              "        buttonEl.style.display =\n",
              "          google.colab.kernel.accessAllowed ? 'block' : 'none';\n",
              "\n",
              "        async function convertToInteractive(key) {\n",
              "          const element = document.querySelector('#df-fe0be214-39a1-426a-9a0a-106157c922bc');\n",
              "          const dataTable =\n",
              "            await google.colab.kernel.invokeFunction('convertToInteractive',\n",
              "                                                     [key], {});\n",
              "          if (!dataTable) return;\n",
              "\n",
              "          const docLinkHtml = 'Like what you see? Visit the ' +\n",
              "            '<a target=\"_blank\" href=https://colab.research.google.com/notebooks/data_table.ipynb>data table notebook</a>'\n",
              "            + ' to learn more about interactive tables.';\n",
              "          element.innerHTML = '';\n",
              "          dataTable['output_type'] = 'display_data';\n",
              "          await google.colab.output.renderOutput(dataTable, element);\n",
              "          const docLink = document.createElement('div');\n",
              "          docLink.innerHTML = docLinkHtml;\n",
              "          element.appendChild(docLink);\n",
              "        }\n",
              "      </script>\n",
              "    </div>\n",
              "  </div>\n",
              "  "
            ]
          },
          "metadata": {},
          "execution_count": 8
        }
      ]
    },
    {
      "cell_type": "code",
      "source": [
        "import pandas as pd\n",
        "import pandas_profiling as pdp\n",
        "\n",
        "pdp.ProfileReport(train_df)\n"
      ],
      "metadata": {
        "id": "wAvedv2BCEzq"
      },
      "execution_count": null,
      "outputs": []
    },
    {
      "cell_type": "code",
      "source": [
        "train_df.columns"
      ],
      "metadata": {
        "id": "srIFVx7YARv3"
      },
      "execution_count": null,
      "outputs": []
    },
    {
      "cell_type": "code",
      "source": [
        "train_df = train_df[[]]"
      ],
      "metadata": {
        "id": "9ko6u5lYANXf"
      },
      "execution_count": null,
      "outputs": []
    },
    {
      "cell_type": "code",
      "source": [
        "# check data type(train_data)\n",
        "print(train_df.dtypes)\n",
        "\n",
        "# check missing values (train_data)\n",
        "print(train_df.isnull().sum())\n",
        "\n",
        "# check missing values (test_data)\n",
        "print(test_df.isnull().sum())"
      ],
      "metadata": {
        "id": "8Za1cV6LhT6c"
      },
      "execution_count": null,
      "outputs": []
    },
    {
      "cell_type": "code",
      "source": [
        "# check train_data describe\n",
        "train_df.describe().T"
      ],
      "metadata": {
        "id": "R-f6-oU5hiML"
      },
      "execution_count": null,
      "outputs": []
    },
    {
      "cell_type": "code",
      "source": [
        "#Object項目の分布図を縦に並べて表示\n",
        "\n",
        "categories = train_df.columns[train_df.dtypes=='object'].values.tolist()\n",
        "#categories\n",
        "\n",
        "import seaborn as sns\n",
        "import matplotlib.pyplot as plt\n",
        "sns.set()\n",
        "\n",
        "fig, axes = plt.subplots(len(categories),1,figsize=(9,9*len(categories)))   \n",
        "\n",
        "for i in range(len(categories)):\n",
        "    sns.barplot(x=categories[i], y=\"bankruptcy\", data=train_df, palette=\"Set3\", ax=axes[i])\n",
        "\n",
        "plt.show()\n",
        "\n",
        "\n",
        "for j in range(len(categories)):\n",
        "    print(train_df.groupby(categories[j]).count().index.to_list())\n"
      ],
      "metadata": {
        "id": "1smANE0PCYPC"
      },
      "execution_count": null,
      "outputs": []
    },
    {
      "cell_type": "code",
      "source": [
        "fare = sns.FacetGrid(train_df, hue=\"bankruptcy\",aspect=2)\n",
        "fare.map(sns.kdeplot,'term',shade= True)\n",
        "fare.set(xlim=(0, train_df[\"term\"].max()))\n",
        "fare.add_legend()"
      ],
      "metadata": {
        "id": "qtXj72rVhtIL"
      },
      "execution_count": null,
      "outputs": []
    },
    {
      "cell_type": "code",
      "source": [
        "fare = sns.FacetGrid(train_df, hue=\"bankruptcy\",aspect=2)\n",
        "fare.map(sns.kdeplot,'age',shade= True)\n",
        "fare.set(xlim=(0, train_df[\"age\"].max()))\n",
        "fare.add_legend()"
      ],
      "metadata": {
        "id": "kAG3IBI7AveR"
      },
      "execution_count": null,
      "outputs": []
    },
    {
      "cell_type": "markdown",
      "source": [
        "#**Data processing**"
      ],
      "metadata": {
        "id": "jeOb5RwfhzMS"
      }
    },
    {
      "cell_type": "code",
      "source": [
        "from sklearn.preprocessing import OneHotEncoder\n",
        "\n",
        "# obtain object data type as list (outcomeが数値でないラベルを抜き出す)\n",
        "categories = train_df.columns[train_df.dtypes=='object'].values.tolist()\n",
        "\n",
        "# One-hot Encoding\n",
        "for cat in categories:\n",
        "    \n",
        "    # generate Label Encoder object\n",
        "    train_df_encoder = pd.get_dummies(train_df[[cat]])\n",
        "    test_df_encoder = pd.get_dummies(test_df[[cat]])\n",
        "\n",
        "    #concat \n",
        "    train_df = pd.concat([train_df, train_df_encoder],axis=1)\n",
        "    test_df = pd.concat([test_df, test_df_encoder], axis=1)\n",
        "    \n",
        "    #drop original (object data) categories\n",
        "    train_df.drop(cat, axis=1, inplace=True)\n",
        "    test_df.drop(cat, axis=1, inplace=True)\n",
        "\n",
        "#drop duplicated columns\n",
        "train_df.loc[:,~train_df.columns.duplicated()]\n",
        "test_df.loc[:,~test_df.columns.duplicated()]"
      ],
      "metadata": {
        "id": "trPm4tvSh34d"
      },
      "execution_count": null,
      "outputs": []
    },
    {
      "cell_type": "code",
      "source": [
        "#Dataset\n",
        "\n",
        "# target label\n",
        "y = train_df['bankruptcy']\n",
        "\n",
        "# predictor features\n",
        "X = train_df.drop(['id', 'bankruptcy'], axis=1)\n",
        "\n",
        "# list of categorical features\n",
        "category_list = X.columns[X.dtypes=='category'].values.tolist()\n"
      ],
      "metadata": {
        "id": "Lm6BSMXgiDtL"
      },
      "execution_count": null,
      "outputs": []
    },
    {
      "cell_type": "code",
      "source": [
        "from pandas._libs.tslibs.parsing import try_parse_date_and_time\n",
        "# LightGBM / hyper parameters\n",
        "lgbm_params = {\n",
        "    'boosting_type': 'gbdt',            # Gradient Boosting Decision Tree\n",
        "    'objective': 'binary',                 # binary classification\n",
        "    'metric': 'auc',                         # evaluator：AUC\n",
        "    \n",
        "    'learning_rate': 0.05, \n",
        "    \n",
        "    'num_leaves': 32, \n",
        "    \n",
        "    'n_estimators': 100000, \n",
        "    'importance_type': 'gain', \n",
        "    \n",
        "    'random_state': 123, \n",
        "}\n",
        "\n",
        "params = {\n",
        "    'boosting_type': 'gbdt',            # Gradient Boosting Decision Tree\n",
        "    'objective': 'binary',\n",
        "    'verbose': -1,\n",
        "    \"metric\" : \"None\",\n",
        "        'learning_rate': 0.05, \n",
        "    'num_leaves': 32, \n",
        "    'n_estimators': 100000, \n",
        "    'importance_type': 'gain',  \n",
        "    'random_state': 123, \n",
        "}\n",
        "\n",
        "#custom_metrics\n",
        "import sklearn\n",
        "from sklearn.metrics import f1_score\n",
        "import numpy as np\n",
        "from sklearn import datasets\n",
        "from sklearn.metrics import precision_score\n",
        "from sklearn.metrics import recall_score\n",
        "from sklearn.model_selection import train_test_split\n",
        "from matplotlib import pyplot as plt\n",
        "import lightgbm as lgb\n",
        "from sklearn.metrics import precision_recall_curve\n",
        "from sklearn import metrics\n",
        "def f1(preds, data):\n",
        "    y_true = data.get_label()\n",
        "    y_pred = np.where(preds > 0.5, 1, 0)\n",
        "    precision = precision_score(y_true, y_pred)\n",
        "    recall = recall_score(y_true, y_pred)\n",
        "    metric = 2*precision*recall/(precision+recall)\n",
        "    return 'f1', metric, True\n",
        "\n",
        "def accuracy(preds, data):\n",
        "    \"\"\"精度 (Accuracy) を計算する関数\"\"\"\n",
        "    y_true = data.get_label()\n",
        "    y_pred = np.where(preds > 0.5, 1, 0)\n",
        "    metric = np.mean(y_true == y_pred)\n",
        "    return 'accuracy', metric, True\n",
        "\n",
        "\n",
        "def precision(preds, data):\n",
        "    \"\"\"適合率 (Precision) を計算する関数\"\"\"\n",
        "    y_true = data.get_label()\n",
        "    y_pred = np.where(preds > 0.5, 1, 0)\n",
        "    metric = precision_score(y_true, y_pred)\n",
        "    return 'precision', metric, True\n",
        "\n",
        "\n",
        "def recall(preds, data):\n",
        "    \"\"\"再現率 (Recall) を計算する関数\"\"\"\n",
        "    y_true = data.get_label()\n",
        "    y_pred = np.where(preds > 0.5, 1, 0)\n",
        "    metric = recall_score(y_true, y_pred)\n",
        "    return 'recall', metric, True\n",
        "\n",
        "def prroc(preds, data):\n",
        "    \"\"\"AUC を計算する関数\"\"\"\n",
        "    y_true = data.get_label()\n",
        "    y_pred = preds\n",
        "    recall, precision, thresholds = precision_recall_curve(y_true, y_pred)\n",
        "    metric = sklearn.metrics.auc(recall, precision)\n",
        "    return 'prroc', metric, True\n",
        "\n",
        "def aucroc(preds, data):\n",
        "    \"\"\"Precision_recall_AUC を計算する関数\"\"\"\n",
        "    y_true = data.get_label()\n",
        "    y_pred = preds\n",
        "    metric = roc_auc_score(y_true, y_pred)\n",
        "    return 'aucroc', metric, True\n",
        "\n",
        "\n",
        "def metrics(preds, data): #複数onにすると、複数の指標でearly stoppingをしてしまうので注意\n",
        "    \"\"\"複数の評価指標を計算するための関数\"\"\"\n",
        "    # リストでまとめて返せば良い\n",
        "    return [\n",
        "        #accuracy(preds, data),\n",
        "        #precision(preds, data),\n",
        "        #recall(preds, data),\n",
        "        #f1(preds, data),\n",
        "        aucroc(preds, data),\n",
        "        #prroc(preds, data), #これはうまくいかない\n",
        "    ]"
      ],
      "metadata": {
        "id": "5QajuuZKkdvM"
      },
      "execution_count": null,
      "outputs": []
    },
    {
      "cell_type": "markdown",
      "source": [
        "#**PythonAPI_lightGBM**"
      ],
      "metadata": {
        "id": "XrSEf0rawKVr"
      }
    },
    {
      "cell_type": "code",
      "source": [
        "from sklearn.metrics import log_loss\n",
        "\n",
        "\n",
        "# StratifiedKFold-CV\n",
        "\n",
        "# num of fold\n",
        "folds = 5\n",
        "\n",
        "# list of fixed models based on CV\n",
        "models = []\n",
        "\n",
        "# list of auc based on CV\n",
        "auc = []\n",
        "\n",
        "# prediction of valid data\n",
        "out_of_fold = np.zeros(len(X))\n",
        "\n",
        "\n",
        "# generate StratifiedKFold object and prepare train_index & valid_index\n",
        "cv = list(StratifiedKFold(n_splits=folds, shuffle=True, random_state=123).split(X, y))\n",
        "\n",
        "\n",
        "# CV\n",
        "for n_fold in np.arange(folds):\n",
        "    \n",
        "    # obtain index for model fitting\n",
        "    train_index = cv[n_fold][0]\n",
        "    \n",
        "    # obtain index for validation data\n",
        "    valid_index = cv[n_fold][1]\n",
        "    \n",
        "    # predictor features for model fitting\n",
        "    x_train_cv = X.iloc[train_index]\n",
        "    \n",
        "    # target label for model fitting\n",
        "    y_train_cv =y.iloc[train_index]\n",
        "    \n",
        "    # predictor features for validation\n",
        "    x_valid_cv = X.iloc[valid_index]\n",
        "    \n",
        "    # target label for validation\n",
        "    y_valid_cv = y.iloc[valid_index]\n",
        "    \n",
        "    # データセットを生成する\n",
        "    lgb_train = lgb.Dataset(x_train_cv, y_train_cv)\n",
        "    lgb_eval = lgb.Dataset(x_valid_cv, y_valid_cv, reference=lgb_train)\n",
        "\n",
        "    # 上記のパラメータでモデルを学習する\n",
        "    evals_result = {}\n",
        "    model = lgb.train(params, lgb_train, \n",
        "                  #valid_sets=lgb_eval,\n",
        "                  verbose_eval=50,  # 50イテレーション毎に学習結果出力\n",
        "                  num_boost_round=1000,  # 最大イテレーション回数指定\n",
        "                  early_stopping_rounds=50,\n",
        "                  # メトリックを追跡する対象のデータセット\n",
        "                  valid_sets=[lgb_eval, lgb_train],\n",
        "                  #valid_sets=[lgb_eval],\n",
        "                  # 上記の名前\n",
        "                  valid_names=['eval', 'train'],\n",
        "                  # メトリックの履歴を残すオブジェクト\n",
        "                  evals_result=evals_result,\n",
        "                  # 独自メトリックを計算する関数\n",
        "                  feval=metrics,\n",
        "                 )\n",
        "    \n",
        "    \n",
        "    # predict data for model fitting\n",
        "    y_pred_train = model.predict(x_train_cv)\n",
        "    \n",
        "    # predict validation data\n",
        "    y_pred_valid = model.predict(x_valid_cv)\n",
        "    \n",
        "    \n",
        "    # AUC\n",
        "    # data for model fitting\n",
        "    temp_auc_train = roc_auc_score(y_train_cv, y_pred_train)\n",
        "    \n",
        "    # validation data\n",
        "    temp_auc_valid = roc_auc_score(y_valid_cv, y_pred_valid)\n",
        "\n",
        "    #calculate log_loss\n",
        "    logloss = log_loss(y_valid_cv, y_pred_valid)\n",
        "\n",
        "    print(f'\\nfold: {n_fold}')\n",
        "    print(f'log loss: {logloss}')\n",
        "    \n",
        "    # AUC\n",
        "    print(f'auc(train_data) = {temp_auc_train:.4f}')\n",
        "    print(f'auc(valid_data) = {temp_auc_valid:.4f}\\n\\n')\n",
        "    \n",
        "    # AUC append\n",
        "    auc.append([temp_auc_train, temp_auc_valid])\n",
        "    \n",
        "    # model append\n",
        "    models.append(model)\n",
        "    \n",
        "    # prediction result of validation data\n",
        "    out_of_fold[valid_index] = y_pred_valid\n",
        "\n",
        "# auc into NumPy type\n",
        "auc_np = np.array(auc)\n",
        "\n",
        "# mean of auc (train data)\n",
        "auc_train_mean = auc_np[:, 0].mean()\n",
        "print(f'auc(train_data)_mean = {auc_train_mean:.4f}')\n",
        "\n",
        "# mean of auc (validation data)\n",
        "auc_valid_mean = auc_np[:, 1].mean()\n",
        "print(f'auc(valid_data)_mean = {auc_valid_mean:.4f}')\n",
        "    "
      ],
      "metadata": {
        "id": "9G9eCU0pif2M"
      },
      "execution_count": null,
      "outputs": []
    },
    {
      "cell_type": "markdown",
      "source": [
        "#**SKlearn_lightGBM**"
      ],
      "metadata": {
        "id": "byJHf29Fv4Ds"
      }
    },
    {
      "cell_type": "code",
      "source": [
        "# StratifiedKFold-CV\n",
        "\n",
        "# num of fold\n",
        "folds = 5\n",
        "\n",
        "# list of fixed models based on CV\n",
        "models = []\n",
        "\n",
        "# list of auc based on CV\n",
        "auc = []\n",
        "\n",
        "# prediction of valid data\n",
        "out_of_fold = np.zeros(len(X))\n",
        "\n",
        "\n",
        "# generate StratifiedKFold object and prepare train_index & valid_index\n",
        "cv = list(StratifiedKFold(n_splits=folds, shuffle=True, random_state=123).split(X, y))\n",
        "\n",
        "\n",
        "# CV\n",
        "for n_fold in np.arange(folds):\n",
        "    \n",
        "    # obtain index for model fitting\n",
        "    train_index = cv[n_fold][0]\n",
        "    \n",
        "    # obtain index for validation data\n",
        "    valid_index = cv[n_fold][1]\n",
        "    \n",
        "    # predictor features for model fitting\n",
        "    x_train_cv = X.iloc[train_index]\n",
        "    \n",
        "    # target label for model fitting\n",
        "    y_train_cv = y.iloc[train_index]\n",
        "    \n",
        "    # predictor features for validation\n",
        "    x_valid_cv = X.iloc[valid_index]\n",
        "    \n",
        "    # target label for validation\n",
        "    y_valid_cv = y.iloc[valid_index]\n",
        "    \n",
        "    \n",
        "    \n",
        "    # generate LightGBM model object\n",
        "    model = lgb.LGBMClassifier(**lgbm_params)\n",
        "    \n",
        "    \n",
        "    # model fitting\n",
        "    model.fit(\n",
        "        x_train_cv, \n",
        "        y_train_cv, \n",
        "        eval_set = [(x_train_cv, y_train_cv), (x_valid_cv, y_valid_cv)], \n",
        "        early_stopping_rounds = 100, \n",
        "        categorical_feature = category_list,\n",
        "        verbose = 50, \n",
        "    )\n",
        "    \n",
        "    \n",
        "    # predict data for model fitting\n",
        "    y_pred_train = model.predict_proba(x_train_cv, num_iteration=model.best_iteration_)[:, 1]\n",
        "    \n",
        "    # predict validation data\n",
        "    y_pred_valid = model.predict_proba(x_valid_cv, num_iteration=model.best_iteration_)[:, 1]\n",
        "    \n",
        "    \n",
        "    # AUC\n",
        "    # data for model fitting\n",
        "    temp_auc_train = roc_auc_score(y_train_cv, y_pred_train)\n",
        "    \n",
        "    # validation data\n",
        "    temp_auc_valid = roc_auc_score(y_valid_cv, y_pred_valid)\n",
        "    \n",
        "    # AUC\n",
        "    print(f'\\nauc(train_data) = {temp_auc_train:.4f}')\n",
        "    print(f'auc(valid_data) = {temp_auc_valid:.4f}\\n')\n",
        "    \n",
        "    # AUC append\n",
        "    auc.append([temp_auc_train, temp_auc_valid])\n",
        "    \n",
        "    \n",
        "    # model append\n",
        "    models.append(model)\n",
        "    \n",
        "    # prediction result of validation data\n",
        "    out_of_fold[valid_index] = y_pred_valid\n",
        "    \n",
        "    \n",
        "    # plot of model fitting curve\n",
        "    lgb.plot_metric(model, ylim=(0, 1.2));"
      ],
      "metadata": {
        "colab": {
          "base_uri": "https://localhost:8080/",
          "height": 1000
        },
        "id": "KJOih4EJn599",
        "outputId": "840b78c2-71f3-452c-d80b-fe18952cdfa2"
      },
      "execution_count": null,
      "outputs": [
        {
          "output_type": "stream",
          "name": "stdout",
          "text": [
            "Training until validation scores don't improve for 100 rounds.\n",
            "[50]\ttraining's auc: 0.978178\tvalid_1's auc: 0.724157\n",
            "[100]\ttraining's auc: 0.999209\tvalid_1's auc: 0.724722\n",
            "[150]\ttraining's auc: 1\tvalid_1's auc: 0.719827\n",
            "Early stopping, best iteration is:\n",
            "[75]\ttraining's auc: 0.994443\tvalid_1's auc: 0.737714\n",
            "\n",
            "auc(train_data) = 0.9944\n",
            "auc(valid_data) = 0.7377\n",
            "\n",
            "Training until validation scores don't improve for 100 rounds.\n",
            "[50]\ttraining's auc: 0.972598\tvalid_1's auc: 0.816592\n",
            "[100]\ttraining's auc: 0.999021\tvalid_1's auc: 0.835751\n",
            "[150]\ttraining's auc: 1\tvalid_1's auc: 0.831101\n",
            "Early stopping, best iteration is:\n",
            "[86]\ttraining's auc: 0.997271\tvalid_1's auc: 0.8391\n",
            "\n",
            "auc(train_data) = 0.9973\n",
            "auc(valid_data) = 0.8391\n",
            "\n",
            "Training until validation scores don't improve for 100 rounds.\n",
            "[50]\ttraining's auc: 0.980235\tvalid_1's auc: 0.747024\n",
            "[100]\ttraining's auc: 0.99909\tvalid_1's auc: 0.75465\n",
            "[150]\ttraining's auc: 1\tvalid_1's auc: 0.755952\n",
            "[200]\ttraining's auc: 1\tvalid_1's auc: 0.75372\n",
            "Early stopping, best iteration is:\n",
            "[137]\ttraining's auc: 1\tvalid_1's auc: 0.754464\n",
            "\n",
            "auc(train_data) = 1.0000\n",
            "auc(valid_data) = 0.7545\n",
            "\n",
            "Training until validation scores don't improve for 100 rounds.\n",
            "[50]\ttraining's auc: 0.973367\tvalid_1's auc: 0.767857\n",
            "[100]\ttraining's auc: 0.998542\tvalid_1's auc: 0.771391\n",
            "[150]\ttraining's auc: 1\tvalid_1's auc: 0.778274\n",
            "[200]\ttraining's auc: 1\tvalid_1's auc: 0.772879\n",
            "Early stopping, best iteration is:\n",
            "[135]\ttraining's auc: 1\tvalid_1's auc: 0.77567\n",
            "\n",
            "auc(train_data) = 1.0000\n",
            "auc(valid_data) = 0.7757\n",
            "\n",
            "Training until validation scores don't improve for 100 rounds.\n",
            "[50]\ttraining's auc: 0.975385\tvalid_1's auc: 0.755208\n",
            "[100]\ttraining's auc: 0.998694\tvalid_1's auc: 0.789435\n",
            "[150]\ttraining's auc: 1\tvalid_1's auc: 0.78497\n",
            "[200]\ttraining's auc: 1\tvalid_1's auc: 0.794085\n",
            "Early stopping, best iteration is:\n",
            "[132]\ttraining's auc: 1\tvalid_1's auc: 0.785528\n",
            "\n",
            "auc(train_data) = 1.0000\n",
            "auc(valid_data) = 0.7855\n",
            "\n"
          ]
        },
        {
          "output_type": "display_data",
          "data": {
            "text/plain": [
              "<Figure size 432x288 with 1 Axes>"
            ],
            "image/png": "[encoded data removed]"
          },
          "metadata": {
            "needs_background": "light"
          }
        },
        {
          "output_type": "display_data",
          "data": {
            "text/plain": [
              "<Figure size 432x288 with 1 Axes>"
            ],
            "image/png": "[encoded data removed]"
          },
          "metadata": {
            "needs_background": "light"
          }
        },
        {
          "output_type": "display_data",
          "data": {
            "text/plain": [
              "<Figure size 432x288 with 1 Axes>"
            ],
            "image/png": "[encoded data removed]"
          },
          "metadata": {
            "needs_background": "light"
          }
        },
        {
          "output_type": "display_data",
          "data": {
            "text/plain": [
              "<Figure size 432x288 with 1 Axes>"
            ],
            "image/png": "[encoded data removed]"
          },
          "metadata": {
            "needs_background": "light"
          }
        },
        {
          "output_type": "display_data",
          "data": {
            "text/plain": [
              "<Figure size 432x288 with 1 Axes>"
            ],
            "image/png": "[encoded data removed]"
          },
          "metadata": {
            "needs_background": "light"
          }
        }
      ]
    },
    {
      "cell_type": "code",
      "source": [
        "# auc into NumPy type\n",
        "auc_np = np.array(auc)\n",
        "\n",
        "# mean of auc (train data)\n",
        "auc_train_mean = auc_np[:, 0].mean()\n",
        "print(f'auc(train_data)_mean = {auc_train_mean:.4f}')\n",
        "\n",
        "# mean of auc (validation data)\n",
        "auc_valid_mean = auc_np[:, 1].mean()\n",
        "print(f'auc(valid_data)_mean = {auc_valid_mean:.4f}')"
      ],
      "metadata": {
        "colab": {
          "base_uri": "https://localhost:8080/"
        },
        "id": "jo8BxSC1ky4m",
        "outputId": "8beeca1f-0e66-45b8-e50c-2b25c8ef9826"
      },
      "execution_count": null,
      "outputs": [
        {
          "output_type": "stream",
          "name": "stdout",
          "text": [
            "auc(train_data)_mean = 0.9983\n",
            "auc(valid_data)_mean = 0.7833\n"
          ]
        }
      ]
    },
    {
      "cell_type": "code",
      "source": [
        "# Prediction of test data\n",
        "\n",
        "# list of prediction based on each CV\n",
        "preds_test = []\n",
        "\n",
        "\n",
        "# predictor features of test data\n",
        "x_test = test_df.drop(['id'], axis=1)\n",
        "\n",
        "\n",
        "# predict with learned model based on CV\n",
        "for model in models:\n",
        "    \n",
        "    # predict\n",
        "    pred = model.predict_proba(x_test, num_iteration=model.best_iteration_)[:, 1]\n",
        "    \n",
        "    # append\n",
        "    preds_test.append(pred)"
      ],
      "metadata": {
        "id": "Kh3cZbj1k1UF"
      },
      "execution_count": null,
      "outputs": []
    },
    {
      "cell_type": "code",
      "source": [
        "# preds_test into NumPy type\n",
        "preds_test_np = np.array(preds_test)\n",
        "\n",
        "# obtain its mean\n",
        "preds_test_np_mean = preds_test_np.mean(axis=0)\n",
        "\n",
        "# print\n",
        "preds_test_np_mean"
      ],
      "metadata": {
        "id": "BahrElx_k3Mb"
      },
      "execution_count": null,
      "outputs": []
    },
    {
      "cell_type": "code",
      "source": [
        "# obtain submission file from the prediction\n",
        "submission['proba'] = preds_test_np_mean\n",
        "\n",
        "submission"
      ],
      "metadata": {
        "id": "XThmETQhk4wd"
      },
      "execution_count": null,
      "outputs": []
    },
    {
      "cell_type": "code",
      "source": [
        "# save submission\n",
        "submission.to_csv('./submission.csv', index=False)"
      ],
      "metadata": {
        "id": "nUkT7dexk77S"
      },
      "execution_count": null,
      "outputs": []
    },
    {
      "cell_type": "markdown",
      "source": [
        "#**Specify important factors**"
      ],
      "metadata": {
        "id": "ghpOsMu3BJTb"
      }
    },
    {
      "cell_type": "code",
      "source": [
        "# important features\n",
        "lgb.plot_importance(model, importance_type='gain', max_num_features=15)"
      ],
      "metadata": {
        "colab": {
          "base_uri": "https://localhost:8080/",
          "height": 313
        },
        "id": "bxvV6cYQBN4q",
        "outputId": "93c6818c-0e6f-4b8f-db88-18c3fc1b4ba7"
      },
      "execution_count": null,
      "outputs": [
        {
          "output_type": "execute_result",
          "data": {
            "text/plain": [
              "<matplotlib.axes._subplots.AxesSubplot at 0x7fb99e5e57d0>"
            ]
          },
          "metadata": {},
          "execution_count": 97
        },
        {
          "output_type": "display_data",
          "data": {
            "text/plain": [
              "<Figure size 432x288 with 1 Axes>"
            ],
            "image/png": "[encoded data removed]"
          },
          "metadata": {
            "needs_background": "light"
          }
        }
      ]
    }
  ],
  "metadata": {
    "colab": {
      "collapsed_sections": [],
      "name": "01_read_file_by_pandas.ipynb",
      "provenance": [],
      "include_colab_link": true
    },
    "kernelspec": {
      "display_name": "Python 3",
      "name": "python3"
    },
    "language_info": {
      "name": "python"
    }
  },
  "nbformat": 4,
  "nbformat_minor": 0
}